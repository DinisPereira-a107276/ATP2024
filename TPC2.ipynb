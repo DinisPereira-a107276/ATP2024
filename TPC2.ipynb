{
 "cells": [
  {
   "cell_type": "code",
   "execution_count": null,
   "metadata": {},
   "outputs": [],
   "source": [
    "# Relatório TP2\n",
    "## Data:2024-09-16\n",
    "## Autor: Dinis Pereira a107276\n",
    "\n",
    "## Resumo\n",
    "\n",
    "# O TPC2 consistiu em fazer o computador adivinhar o número em que estamos a pensar.\n"
   ]
  },
  {
   "cell_type": "code",
   "execution_count": 19,
   "metadata": {},
   "outputs": [
    {
     "name": "stdout",
     "output_type": "stream",
     "text": [
      "PARABÉNS, acertaste em 5\n"
     ]
    }
   ],
   "source": [
    "##Descobrir o número do PC\n",
    "\n",
    "import random\n",
    "\n",
    "min = 0\n",
    "max = 100\n",
    "resposta = random.randint(min,max)\n",
    "\n",
    "nosso = int(input(\"Tenta adivinhar em que numero eu estou a pensar!\"))\n",
    "tentativas = 1\n",
    "\n",
    "while nosso != resposta:\n",
    "    if nosso > resposta:\n",
    "        nosso = int(input(\"Tenta outra vez. Uma dica, o numero é menor\"))\n",
    "        tentativas = tentativas + 1\n",
    "    elif nosso < resposta:\n",
    "        nosso = int(input(\"Tenta outra vez. Uma dica, o numero é maior\"))\n",
    "        tentativas = tentativas + 1\n",
    "\n",
    "print(f\"PARABÉNS, acertaste em {tentativas} tentativas!\")\n"
   ]
  },
  {
   "cell_type": "code",
   "execution_count": 24,
   "metadata": {},
   "outputs": [
    {
     "name": "stdout",
     "output_type": "stream",
     "text": [
      "Acertei em 6 tentativas!\n"
     ]
    }
   ],
   "source": [
    "##O PC descobre o meu número\n",
    "\n",
    "import random\n",
    "\n",
    "min = 0\n",
    "max = 100\n",
    "\n",
    "tentativas = 1\n",
    "finished = False\n",
    "computador = random.randint(min,max)\n",
    "\n",
    "while not finished:\n",
    "    resposta = input(f\"Estás a pensar no número {computador}? Se sim escreve = , se for maior escreve + e se for menor escreve - .\")\n",
    "\n",
    "    if resposta == \"=\":\n",
    "        print(f\"Acertei em {tentativas} tentativas!\")\n",
    "        finished = True\n",
    "    elif resposta == \"+\":\n",
    "        min = computador + 1\n",
    "        computador = random.randint(min,max)\n",
    "        tentativas = tentativas + 1\n",
    "    elif resposta == \"-\":\n",
    "        max = computador -1\n",
    "        computador = random.randint(min,max)\n",
    "        tentativas = tentativas + 1\n",
    "    else:\n",
    "        print(\"OPÇÃO INVÁLIDA\")\n"
   ]
  }
 ],
 "metadata": {
  "kernelspec": {
   "display_name": "Python 3",
   "language": "python",
   "name": "python3"
  },
  "language_info": {
   "codemirror_mode": {
    "name": "ipython",
    "version": 3
   },
   "file_extension": ".py",
   "mimetype": "text/x-python",
   "name": "python",
   "nbconvert_exporter": "python",
   "pygments_lexer": "ipython3",
   "version": "3.12.0"
  }
 },
 "nbformat": 4,
 "nbformat_minor": 2
}
